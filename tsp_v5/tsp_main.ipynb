{
 "cells": [
  {
   "cell_type": "code",
   "execution_count": null,
   "metadata": {},
   "outputs": [],
   "source": [
    "import tsplib95 as tspl\n",
    "%matplotlib inline\n",
    "from tsp import tsp_plot as plot\n",
    "from tsp import tsp_heu as heur\n",
    "from tsp import tsp_trees as trees\n",
    "from tsp import tsp_match as match\n",
    "from tsp.concorde import solveTSP\n",
    "from tsp.tsp_cpx import CPXtspSolve"
   ]
  },
  {
   "cell_type": "markdown",
   "metadata": {},
   "source": [
    "# Load a TSPLIB problem instance using tsplib95"
   ]
  },
  {
   "cell_type": "code",
   "execution_count": null,
   "metadata": {
    "scrolled": true
   },
   "outputs": [],
   "source": [
    "problem = tspl.load_problem('/home/au220629/p/problems/tsp/berlin52.tsp')\n",
    "plot.displayPoints(problem)"
   ]
  },
  {
   "cell_type": "markdown",
   "metadata": {},
   "source": [
    "# Lower bounds"
   ]
  },
  {
   "cell_type": "markdown",
   "metadata": {},
   "source": [
    "##    1-Tree lower bound"
   ]
  },
  {
   "cell_type": "code",
   "execution_count": null,
   "metadata": {},
   "outputs": [],
   "source": [
    "weight, tree = trees.oneTree( problem )\n",
    "plot.plotEdgeList( problem, tree, title=\"1-tree lower bound = \"+str(weight) )"
   ]
  },
  {
   "cell_type": "markdown",
   "metadata": {},
   "source": [
    "## Reinelt's fast 1-Tree lower bound"
   ]
  },
  {
   "cell_type": "code",
   "execution_count": null,
   "metadata": {},
   "outputs": [],
   "source": [
    "weight, tree = trees.fast1Tree( problem )\n",
    "plot.plotEdgeList( problem, tree, title=\"Reinelt's fast 1-tree lower bound = \"+str(weight) )"
   ]
  },
  {
   "cell_type": "markdown",
   "metadata": {},
   "source": [
    "## Assignment lower bound"
   ]
  },
  {
   "cell_type": "code",
   "execution_count": null,
   "metadata": {},
   "outputs": [],
   "source": [
    "cost, elist = match.assignLB( problem )\n",
    "plot.plotEdgeList( problem, elist, title=\"Assignment lower bound = \"+str(cost) )"
   ]
  },
  {
   "cell_type": "markdown",
   "metadata": {},
   "source": [
    "## 2-matching lower bound"
   ]
  },
  {
   "cell_type": "code",
   "execution_count": null,
   "metadata": {},
   "outputs": [],
   "source": [
    "weight, elist = match.twoMatch( problem )\n",
    "plot.plotEdgeList( problem, elist, title=\"2-matching lower bound = \"+str(weight) )"
   ]
  },
  {
   "cell_type": "markdown",
   "metadata": {},
   "source": [
    "## 2-matching lower bound (fractional)"
   ]
  },
  {
   "cell_type": "code",
   "execution_count": null,
   "metadata": {},
   "outputs": [],
   "source": [
    "weight, elist, xvals = match.twoMatch( problem, fractional=True )\n",
    "efract = [ elist[i] for i in range(len(elist)) if xvals[i] < 0.999999 ]           \n",
    "plot.plotEdgeList( problem, elist, specialEdges=efract,\\\n",
    "                   title=\"Fract. 2-matching LB (fract.edges are red) = \"+str(weight) )"
   ]
  },
  {
   "cell_type": "markdown",
   "metadata": {},
   "source": [
    "# Simple heuristics"
   ]
  },
  {
   "cell_type": "markdown",
   "metadata": {},
   "source": [
    "## Nearest neighbour heuristic"
   ]
  },
  {
   "cell_type": "code",
   "execution_count": null,
   "metadata": {},
   "outputs": [],
   "source": [
    "routeLen, route = heur.nearestNeighbour( problem )\n",
    "plot.displayRoute( problem.node_coords, route, routeLen, title=\"Nearest neighbour route\",animate=False )"
   ]
  },
  {
   "cell_type": "markdown",
   "metadata": {},
   "source": [
    "## Nearest insertion"
   ]
  },
  {
   "cell_type": "code",
   "execution_count": null,
   "metadata": {},
   "outputs": [],
   "source": [
    "routeLen, route = heur.doInsertion( problem )\n",
    "plot.displayRoute( problem.node_coords, route, routeLen, title=\"Nearest insertion route\", animate=False )"
   ]
  },
  {
   "cell_type": "markdown",
   "metadata": {},
   "source": [
    "## Farthest insertion"
   ]
  },
  {
   "cell_type": "code",
   "execution_count": null,
   "metadata": {},
   "outputs": [],
   "source": [
    "routeLen, route = heur.doInsertion( problem, nearest=False )\n",
    "plot.displayRoute( problem.node_coords, route, routeLen, title=\"Farthest insertion route\", animate=False )"
   ]
  },
  {
   "cell_type": "markdown",
   "metadata": {},
   "source": [
    "## Minimum spanning tree heuristic"
   ]
  },
  {
   "cell_type": "code",
   "execution_count": null,
   "metadata": {},
   "outputs": [],
   "source": [
    "routeLen, route = heur.minSpanTree( problem, display=True, animate=False )"
   ]
  },
  {
   "cell_type": "markdown",
   "metadata": {},
   "source": [
    "## Christofides' heuristic"
   ]
  },
  {
   "cell_type": "code",
   "execution_count": null,
   "metadata": {},
   "outputs": [],
   "source": [
    "routeLen, route = heur.christofides( problem, display=True, animate=False )"
   ]
  },
  {
   "cell_type": "markdown",
   "metadata": {},
   "source": [
    "## Concorde's Lin-Kernighan method"
   ]
  },
  {
   "cell_type": "code",
   "execution_count": null,
   "metadata": {},
   "outputs": [],
   "source": [
    "routeLen, route = solveTSP( problem, exact=False, logFile=\"CC_log.log\" )\n",
    "plot.displayRoute( problem.node_coords, route, routeLen, title=\"Concorde's LK solution\", animate=False )"
   ]
  },
  {
   "cell_type": "markdown",
   "metadata": {},
   "source": [
    "## Exact solution by means of Concorde's branch-and-cut"
   ]
  },
  {
   "cell_type": "code",
   "execution_count": null,
   "metadata": {},
   "outputs": [],
   "source": [
    "routeLen, route = solveTSP( problem, logFile=\"CC_log.log\" )\n",
    "plot.displayRoute( problem.node_coords, route, routeLen, title=\"Concorde's LK solution\", animate=False )"
   ]
  },
  {
   "cell_type": "markdown",
   "metadata": {},
   "source": [
    "# Solution using Cplex with cut callbacks"
   ]
  },
  {
   "cell_type": "code",
   "execution_count": null,
   "metadata": {},
   "outputs": [],
   "source": [
    "anim = 'y' # set to 'n' to prevent animation\n",
    "lowbnd, routeLen, route = CPXtspSolve( problem, startRoute=route, anim=anim )\n",
    "if (not anim) and (not route is None):\n",
    "    plot.displayRoute( problem.node_coords, route, routeLen, title=\"CPLEX solution\", animate=False )    "
   ]
  },
  {
   "cell_type": "code",
   "execution_count": null,
   "metadata": {},
   "outputs": [],
   "source": []
  }
 ],
 "metadata": {
  "kernelspec": {
   "display_name": "Python 3",
   "language": "python",
   "name": "python3"
  },
  "language_info": {
   "codemirror_mode": {
    "name": "ipython",
    "version": 3
   },
   "file_extension": ".py",
   "mimetype": "text/x-python",
   "name": "python",
   "nbconvert_exporter": "python",
   "pygments_lexer": "ipython3",
   "version": "3.5.2"
  }
 },
 "nbformat": 4,
 "nbformat_minor": 2
}
